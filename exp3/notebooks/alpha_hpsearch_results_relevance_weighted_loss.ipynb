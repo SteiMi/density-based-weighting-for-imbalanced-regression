{
 "cells": [
  {
   "cell_type": "code",
   "execution_count": null,
   "metadata": {},
   "outputs": [],
   "source": [
    "import pickle\n",
    "import numpy as np\n",
    "import pandas as pd\n",
    "import matplotlib as mpl\n",
    "import matplotlib.pyplot as plt"
   ]
  },
  {
   "cell_type": "code",
   "execution_count": null,
   "metadata": {},
   "outputs": [],
   "source": [
    "def set_size(width=347.12354, fraction=1., subplot=[1, 1]):\n",
    "    \"\"\" Set aesthetic figure dimensions to avoid scaling in latex.\n",
    "\n",
    "    Parameters\n",
    "    ----------\n",
    "    width: float\n",
    "            Width in pts\n",
    "            Default value 347.12354 is textwidth for Springer llncs\n",
    "    fraction: float\n",
    "            Fraction of the width which you wish the figure to occupy\n",
    "\n",
    "    Returns\n",
    "    -------\n",
    "    fig_dim: tuple\n",
    "            Dimensions of figure in inches\n",
    "\n",
    "    From: https://jwalton.info/Embed-Publication-Matplotlib-Latex/\n",
    "    \"\"\"\n",
    "    # Width of figure\n",
    "    fig_width_pt = width * fraction\n",
    "\n",
    "    # Convert from pt to inches\n",
    "    inches_per_pt = 1 / 72.27\n",
    "\n",
    "    # Golden ratio to set aesthetic figure height\n",
    "    golden_ratio = (5**.5 - 1) / 2\n",
    "\n",
    "    # Figure width in inches\n",
    "    fig_width_in = fig_width_pt * inches_per_pt\n",
    "    # Figure height in inches\n",
    "    fig_height_in = fig_width_in * golden_ratio * (subplot[0] / subplot[1])\n",
    "\n",
    "    fig_dim = (fig_width_in, fig_height_in)\n",
    "\n",
    "    return fig_dim\n",
    "\n",
    "\n",
    "def init_mpl(usetex=True):\n",
    "    nice_fonts = {\n",
    "            # Use LaTeX to write all text\n",
    "            \"text.usetex\": usetex,\n",
    "            \"font.family\": \"serif\",\n",
    "            # Use 10pt font in plots, to match 10pt font in document\n",
    "            \"axes.labelsize\": 10,\n",
    "            \"font.size\": 10,\n",
    "            # Make the legend/label fonts a little smaller\n",
    "            \"legend.fontsize\": 8,\n",
    "            \"xtick.labelsize\": 8,\n",
    "            \"ytick.labelsize\": 8,\n",
    "    }\n",
    "\n",
    "    mpl.rcParams.update(nice_fonts)\n",
    "    \n",
    "init_mpl()"
   ]
  },
  {
   "cell_type": "code",
   "execution_count": null,
   "metadata": {},
   "outputs": [],
   "source": [
    "results = pickle.load(open('../hpstudy_alpha_ultimate_perf_dict.pickle', 'rb'), encoding='latin1')"
   ]
  },
  {
   "cell_type": "code",
   "execution_count": null,
   "metadata": {},
   "outputs": [],
   "source": [
    "results_binned = pickle.load(open('../hpstudy_alpha_ultimate_perf_dict_binned.pickle', 'rb'), encoding='latin1')\n",
    "print(results_binned)"
   ]
  },
  {
   "cell_type": "code",
   "execution_count": null,
   "metadata": {},
   "outputs": [],
   "source": [
    "metric = 'rmse'\n",
    "# metric = 'mae'\n",
    "fraction = .75\n",
    "models = [a/10 for a in list(range(0,42,2))]\n",
    "nice_metric_name = {\n",
    "    'mae': 'MAE',\n",
    "    'rmse': 'RMSE'\n",
    "}\n",
    "\n",
    "br_a_metrics = {}\n",
    "bin_ranks = results_binned[metric].keys()\n",
    "for bin_rank in bin_ranks:\n",
    "    if bin_rank not in br_a_metrics.keys():\n",
    "        br_a_metrics[bin_rank] = {}\n",
    "    for m in models:\n",
    "        if m not in br_a_metrics[bin_rank].keys():\n",
    "            br_a_metrics[bin_rank][m] = []\n",
    "        br_a_metrics[bin_rank][m].append(results_binned[metric][bin_rank][(m, m)][0])\n",
    "\n",
    "fig, ax = plt.subplots(figsize=set_size(fraction=fraction))\n",
    "# x-axis = alpha, y-axis = RMSE, line = bin_rank\n",
    "xs = list(br_a_metrics[list(br_a_metrics.keys())[0]].keys())\n",
    "linestyles = ['-', '--', ':']\n",
    "\n",
    "for bin_rank in sorted(br_a_metrics.keys()):\n",
    "    ys = [100*(np.mean(br_a_metrics[bin_rank][x]) - np.mean(br_a_metrics[bin_rank][0.0]))/np.mean(br_a_metrics[bin_rank][0.0]) for x in xs]\n",
    "    ax.plot(xs, ys, label=f'Bin Rank {int(bin_rank)+1}', color=str(1/(bin_rank+1.5)), linestyle=linestyles[bin_rank % len(linestyles)])\n",
    "\n",
    "ax.set_xticks(xs[::2])\n",
    "ax.legend(ncol=1, fontsize='xx-small')\n",
    "ax.set_xlabel('$\\\\alpha$')\n",
    "ax.set_ylabel('$\\\\Delta$' + nice_metric_name[metric] + ' (\\%)')\n",
    "plt.show()\n",
    "fig.savefig('deepsd_binned_'+metric+'.pdf', format='pdf', bbox_inches='tight')"
   ]
  },
  {
   "cell_type": "code",
   "execution_count": null,
   "metadata": {},
   "outputs": [],
   "source": [
    "for a in range(0, 42, 2):\n",
    "    for br in range(0, 5):\n",
    "        print(a/10, br, results_binned['mae'][br][(a/10, 0.0)])\n",
    "    print()"
   ]
  }
 ],
 "metadata": {
  "kernelspec": {
   "display_name": "Python 3",
   "language": "python",
   "name": "python3"
  },
  "language_info": {
   "codemirror_mode": {
    "name": "ipython",
    "version": 3
   },
   "file_extension": ".py",
   "mimetype": "text/x-python",
   "name": "python",
   "nbconvert_exporter": "python",
   "pygments_lexer": "ipython3",
   "version": "3.7.6"
  }
 },
 "nbformat": 4,
 "nbformat_minor": 4
}
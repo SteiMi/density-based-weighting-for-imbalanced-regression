{
  "nbformat": 4,
  "nbformat_minor": 0,
  "metadata": {
    "colab": {
      "name": "smogn-example-2-int.ipynb",
      "provenance": [],
      "collapsed_sections": []
    },
    "kernelspec": {
      "name": "python3",
      "display_name": "Python 3"
    }
  },
  "cells": [
    {
      "cell_type": "markdown",
      "metadata": {
        "id": "IoG91SaLwtuq",
        "colab_type": "text"
      },
      "source": [
        "# SMOGN (0.1.0): Usage\n",
        "---\n",
        "## Example 2: Intermediate\n"
      ]
    },
    {
      "cell_type": "markdown",
      "metadata": {
        "id": "YOSHCUHR--nw",
        "colab_type": "text"
      },
      "source": [
        "## Installation\n",
        "\n",
        "First, we install SMOGN from the Github repository. Alternatively, we could install from the official PyPI distribution. However, the developer version is utilized here for the latest release."
      ]
    },
    {
      "cell_type": "code",
      "metadata": {
        "id": "u9SqBgJ8rduy",
        "colab_type": "code",
        "colab": {}
      },
      "source": [
        "## suppress install output\n",
        "%%capture\n",
        "\n",
        "## install pypi release\n",
        "# !pip install smogn\n",
        "\n",
        "## install developer version\n",
        "!pip install git+https://github.com/nickkunz/smogn.git"
      ],
      "execution_count": 0,
      "outputs": []
    },
    {
      "cell_type": "markdown",
      "metadata": {
        "id": "gKhs9eJd_Ab6",
        "colab_type": "text"
      },
      "source": [
        "## Dependencies\n",
        "Next, we load the required dependencies. Here we import `smogn` to later apply Synthetic Minority Over-Sampling Technique for Regression with Gaussian Noise. In addition, we use `pandas` for data handling, and `seaborn` to visualize our results."
      ]
    },
    {
      "cell_type": "code",
      "metadata": {
        "id": "fPB6tSLinAFS",
        "colab_type": "code",
        "colab": {}
      },
      "source": [
        "## load dependencies\n",
        "import smogn\n",
        "import pandas\n",
        "import seaborn"
      ],
      "execution_count": 0,
      "outputs": []
    },
    {
      "cell_type": "markdown",
      "metadata": {
        "id": "do8cJ25c_HcF",
        "colab_type": "text"
      },
      "source": [
        "## Data\n",
        "After, we load our data. In this example, we use the Ames Housing Dataset training split retreived from Kaggle, originally complied by Dean De Cock. In this case, we name our training set `housing`\n"
      ]
    },
    {
      "cell_type": "code",
      "metadata": {
        "id": "RaFdQ2od-qVO",
        "colab_type": "code",
        "colab": {}
      },
      "source": [
        "## load data\n",
        "housing = pandas.read_csv(\n",
        "\n",
        "    ## http://jse.amstat.org/v19n3/decock.pdf\n",
        "    'https://raw.githubusercontent.com/nickkunz/smogn/master/data/housing.csv'\n",
        ")"
      ],
      "execution_count": 0,
      "outputs": []
    },
    {
      "cell_type": "markdown",
      "metadata": {
        "id": "D71nm6Co_KK-",
        "colab_type": "text"
      },
      "source": [
        "\n",
        "## Synthetic Minority Over-Sampling Technique for Regression with Gaussian Noise\n",
        "Here we cover the focus of this example. We call the `smoter` function from this package (`smogn.smoter`) and satisfy a typtical number of arguments:  `data`, `y`, `k`, `samp_method`, `rel_thres`, `rel_method`, `rel_xtrm_type`, `rel_coef`\n",
        "\n",
        "* The `data` argument takes a Pandas DataFrame, which contains the training set split. In this example, we input the previously loaded `housing` training set with follow input: `data = housing`\n",
        "\n",
        "* The `y` argument takes a string, which specifies a continuous reponse variable by header name. In this example, we input `'SalePrice'` in the interest of predicting the sale price of homes in Ames, Iowa with the following input: `y = 'SalePrice'` \n",
        "\n",
        "* The `k` argument takes a positive integer less than 𝑛, where 𝑛 is the sample size. `k` specifies the number of neighbors to consider for interpolation used in over-sampling. In this example, we input `9` to consider 4 additional neighbors (default is `5`) with the following input: `k = 9`\n",
        "\n",
        "* The `samp_method` argument takes a string, either `'balance'` or `'extreme'`. If `'balance'` is specified, less over/under-sampling is conducted. If `'extreme'` is specified, more over/under-sampling is conducted. In this case, we input `'extreme'` (default is `'balance'`) to aggressively over/under-sample with the following input: `samp_method = 'extreme'`\n",
        "\n",
        "* The `rel_thres` argument takes a real number between 0 and 1. It specifies the threshold of rarity. The higher the threshold, the higher the over/under-sampling boundary. The inverse is also true, where the lower the threshold, the lower the over/under-sampling boundary. In this example, we increase the boundary to `0.80` (default is `0.50`) with the following input: `rel_thres = 0.80`\n",
        "\n",
        "* The `rel_method` argument takes a string, either `'auto'` or `'manual'`. It specifies how relevant or rare \"minority\" values in `y` are determined. If `'auto'` is specified, \"minority\" values are automatically determined by box plot extremes. If `'manual'` is specified, \"minority\" values are determined by the user. In this example, we input `'auto'` with the following input: `rel_method = 'auto'`\n",
        "\n",
        "* The `rel_xtrm_type` argument takes a string, either `'low'` or `'both'` or `'high'`. It indicates which region of the response variable `y` should be considered rare or a \"minority\", when `rel_method = 'auto'`. In this example, we input `'high'` (default is `'both'`) in the interest of over-sampling high \"minority\" values in `y` with the following input: `rel_xtrm_type = 'high'`\n",
        "\n",
        "* The `rel_coef` argument takes a positive real number. It specifies the box plot coefficient used to automatically determine extreme and therefore rare \"minority\" values in `y`, when `rel_method = 'auto'`. In this example, we input `2.25` (default is `1.50`) to increase the box plot extremes with the following input: `rel_coef = 2.25`\n",
        "\n"
      ]
    },
    {
      "cell_type": "code",
      "metadata": {
        "id": "9qRV9hjPjJVF",
        "colab_type": "code",
        "colab": {}
      },
      "source": [
        "## conduct smogn\n",
        "housing_smogn = smogn.smoter(\n",
        "    \n",
        "    ## main arguments\n",
        "    data = housing,           ## pandas dataframe\n",
        "    y = 'SalePrice',          ## string ('header name')\n",
        "    k = 9,                    ## positive integer (k < n)\n",
        "    samp_method = 'extreme',  ## string ('balance' or 'extreme')\n",
        "\n",
        "    ## phi relevance arguments\n",
        "    rel_thres = 0.80,         ## positive real number (0 < R < 1)\n",
        "    rel_method = 'auto',      ## string ('auto' or 'manual')\n",
        "    rel_xtrm_type = 'high',   ## string ('low' or 'both' or 'high')\n",
        "    rel_coef = 2.25           ## positive real number (0 < R)\n",
        ")"
      ],
      "execution_count": 0,
      "outputs": []
    },
    {
      "cell_type": "markdown",
      "metadata": {
        "id": "NBKhYMx4OmKW",
        "colab_type": "text"
      },
      "source": [
        "**Note:**\n",
        "\n",
        "In this example, the regions of interest within the response variable `y` are automatically determined by box plot extremes. The extreme values are considered rare \"minorty\" values are over-sampled. The values closer the median are considered \"majority\" values and are under-sampled.\n",
        "\n",
        "If there are no box plot extremes contained in the reponse variable `y`, the argument `rel_method = manual` must be specified, and an input matrix must be placed into the argument `rel_ctrl_pts_rg` indicating the regions of rarity in `y`.\n",
        "\n",
        "More information regarding the matrix input to the `rel_ctrl_pts_rg` argument and manual over-sampling can be found within the function's doc string, as well as in **Example 3: Advanced**.\n",
        "\n",
        "It is also important to mention that by default, `smogn.smoter` will first automatically remove columns containing missing values and then remove rows, as it cannot input data containing missing values. This feature can be changed with the boolean arguments `drop_na_col = False` and `drop_na_rows = False`."
      ]
    },
    {
      "cell_type": "markdown",
      "metadata": {
        "id": "JSYCW_1t-zra",
        "colab_type": "text"
      },
      "source": [
        "## Results\n",
        "After conducting Synthetic Minority Over-Sampling Technique for Regression with Gaussian Noise, we briefly examine the results. \n",
        "\n",
        "We can see that the number of observations (rows) in the original training set increased from 1460 to 2643, while the number of features (columns) decreased from 81 to 62. \n",
        "\n",
        "Recall that `smogn.smoter` automatically removes features containing missing values. In this case, 19 features contained missing values and were therefore omitted.\n",
        "\n",
        "The increase in observations were a result of over-sampling. More detailed information in this regard can be found in the original paper cited in the **References** section.\n",
        "\n",
        "\n"
      ]
    },
    {
      "cell_type": "code",
      "metadata": {
        "id": "spqtcHX1yTfM",
        "colab_type": "code",
        "outputId": "e096f83c-0308-49df-f6b0-3da665720f5f",
        "colab": {
          "base_uri": "https://localhost:8080/",
          "height": 34
        }
      },
      "source": [
        "## dimensions - original data \n",
        "housing.shape"
      ],
      "execution_count": 38,
      "outputs": [
        {
          "output_type": "execute_result",
          "data": {
            "text/plain": [
              "(1460, 81)"
            ]
          },
          "metadata": {
            "tags": []
          },
          "execution_count": 38
        }
      ]
    },
    {
      "cell_type": "code",
      "metadata": {
        "id": "BJnFAM8VpTUZ",
        "colab_type": "code",
        "outputId": "a598b4e2-4865-4cbb-a2aa-acd1e6c91768",
        "colab": {
          "base_uri": "https://localhost:8080/",
          "height": 34
        }
      },
      "source": [
        "## dimensions - modified data\n",
        "housing_smogn.shape"
      ],
      "execution_count": 39,
      "outputs": [
        {
          "output_type": "execute_result",
          "data": {
            "text/plain": [
              "(2643, 62)"
            ]
          },
          "metadata": {
            "tags": []
          },
          "execution_count": 39
        }
      ]
    },
    {
      "cell_type": "markdown",
      "metadata": {
        "id": "WgJWRm3AN-Vn",
        "colab_type": "text"
      },
      "source": [
        "Further examining the results, we can see that the distribution of the response variable has changed. By calling the `box_plot_stats` function from this package (`smogn.box_plot_stats`) we quickly verify.\n",
        "\n",
        "Notice that the modified training set's box plot five number summary has changed, where the distribution of the response variable has *skewed right* when compared to the original training set."
      ]
    },
    {
      "cell_type": "code",
      "metadata": {
        "id": "6IjxkbBwspsN",
        "colab_type": "code",
        "outputId": "e714f319-4cb4-4f94-af24-c5db648dd61b",
        "colab": {
          "base_uri": "https://localhost:8080/",
          "height": 34
        }
      },
      "source": [
        "## box plot stats - original data \n",
        "smogn.box_plot_stats(housing['SalePrice'])['stats']"
      ],
      "execution_count": 40,
      "outputs": [
        {
          "output_type": "execute_result",
          "data": {
            "text/plain": [
              "array([ 34900., 129950., 163000., 214000., 340000.])"
            ]
          },
          "metadata": {
            "tags": []
          },
          "execution_count": 40
        }
      ]
    },
    {
      "cell_type": "code",
      "metadata": {
        "id": "MCZtVBfU-CLM",
        "colab_type": "code",
        "outputId": "bae2f9f3-4b26-411a-c915-24ab48f5f634",
        "colab": {
          "base_uri": "https://localhost:8080/",
          "height": 34
        }
      },
      "source": [
        "## box plot stats - modified data\n",
        "smogn.box_plot_stats(housing_smogn['SalePrice'])['stats']"
      ],
      "execution_count": 41,
      "outputs": [
        {
          "output_type": "execute_result",
          "data": {
            "text/plain": [
              "array([ 34900., 163000., 336925., 391105., 628780.])"
            ]
          },
          "metadata": {
            "tags": []
          },
          "execution_count": 41
        }
      ]
    },
    {
      "cell_type": "markdown",
      "metadata": {
        "id": "Nex80wz1-VKY",
        "colab_type": "text"
      },
      "source": [
        "Plotting the results of both the original and modified training sets, the *skewed right* distribution of the response variable in the modified training set becomes more evident.\n",
        "\n",
        "In this example, SMOGN over-sampled observations whose `'SalePrice'` was found to be extremely high according to the box plot (those considered \"minority\") and under-sampled observations that were closer to the median (those considered \"majority\").\n",
        "\n",
        "This is perhaps most useful when most of the `y` values of interest in predicting are found at the extremes of the distribution within a given dataset."
      ]
    },
    {
      "cell_type": "code",
      "metadata": {
        "id": "mr_My8zHEM_9",
        "colab_type": "code",
        "outputId": "f40c2eef-61d9-4604-c1cf-7842bf112e25",
        "colab": {
          "base_uri": "https://localhost:8080/",
          "height": 282
        }
      },
      "source": [
        "## plot y distribution \n",
        "seaborn.kdeplot(housing['SalePrice'], label = \"Original\")\n",
        "seaborn.kdeplot(housing_smogn['SalePrice'], label = \"Modified\")"
      ],
      "execution_count": 42,
      "outputs": [
        {
          "output_type": "execute_result",
          "data": {
            "text/plain": [
              "<matplotlib.axes._subplots.AxesSubplot at 0x7f21486c8198>"
            ]
          },
          "metadata": {
            "tags": []
          },
          "execution_count": 42
        },
        {
          "output_type": "display_data",
          "data": {
            "image/png": "[encoded data removed]",
            "text/plain": [
              "<Figure size 432x288 with 1 Axes>"
            ]
          },
          "metadata": {
            "tags": []
          }
        }
      ]
    },
    {
      "cell_type": "markdown",
      "metadata": {
        "id": "XA5_E-5oQF18",
        "colab_type": "text"
      },
      "source": [
        "## Conclusion\n",
        "In this example, we covered typical usage of SMOGN. We utilized the Ames Housing Dataset to conduct Synthetic Minority Over-Sampling Technique for Regression with Gaussian Noise with a number of useful arguments. \n",
        "\n",
        "SMOGN over-sampled \"minority\" values and under-sampled \"majority\" values in a continuous response variable. The results were briefly examined with the box plot's five number summary and plotted for visual confirmation.\n",
        "\n",
        "More examples, where additional features of SMOGN are explored can be found within the packages example directory. Developer updates are available in the package's Github repository at https://github.com/nickkunz/smogn. Official releases are available in the Python Package Index and can be found at https://pypi.org/project/smogn.\n",
        "\n",
        "\n"
      ]
    },
    {
      "cell_type": "markdown",
      "metadata": {
        "id": "rAQ5iGDJa2LM",
        "colab_type": "text"
      },
      "source": [
        "## References\n",
        "\n",
        "Branco, P., Torgo, L., Ribeiro, R. (2017). SMOGN: A Pre-Processing Approach for Imbalanced Regression. Proceedings of Machine Learning Research, 74:36-50. http://proceedings.mlr.press/v74/branco17a/branco17a.pdf.\n",
        "\n",
        "De Cock, D. (2011). Ames, Iowa: Alternative to the Boston Housing Data as an End of Semester Regression Project. Journal of Statistics Education 19(3). https://doi.org/10.1080/10691898.2011.11889627.\n",
        "\n",
        "Kunz, N. (2019). SMOGN: Synthetic Minority Over-Sampling for Regression with Gaussian Noise (Version 0.1.0). Python Package Index.\n",
        "https://pypi.org/project/smogn. "
      ]
    }
  ]
}

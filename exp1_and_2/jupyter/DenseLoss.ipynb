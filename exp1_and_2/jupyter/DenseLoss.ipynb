{
 "cells": [
  {
   "cell_type": "code",
   "execution_count": null,
   "metadata": {},
   "outputs": [],
   "source": [
    "from os.path import join\n",
    "import numpy as np\n",
    "import pandas as pd\n",
    "from sklearn.neighbors import KernelDensity\n",
    "from sklearn.preprocessing import MinMaxScaler\n",
    "import matplotlib as mpl\n",
    "import matplotlib.pyplot as plt"
   ]
  },
  {
   "cell_type": "code",
   "execution_count": null,
   "metadata": {},
   "outputs": [],
   "source": [
    "def set_size(width, fraction=1):\n",
    "    \"\"\" Set aesthetic figure dimensions to avoid scaling in latex.\n",
    "\n",
    "    Parameters\n",
    "    ----------\n",
    "    width: float\n",
    "            Width in pts\n",
    "    fraction: float\n",
    "            Fraction of the width which you wish the figure to occupy\n",
    "\n",
    "    Returns\n",
    "    -------\n",
    "    fig_dim: tuple\n",
    "            Dimensions of figure in inches\n",
    "            \n",
    "    From: https://jwalton.info/Embed-Publication-Matplotlib-Latex/\n",
    "    \"\"\"\n",
    "    # Width of figure\n",
    "    fig_width_pt = width * fraction\n",
    "\n",
    "    # Convert from pt to inches\n",
    "    inches_per_pt = 1 / 72.27\n",
    "\n",
    "    # Golden ratio to set aesthetic figure height\n",
    "    golden_ratio = (5**.5 - 1) / 2\n",
    "\n",
    "    # Figure width in inches\n",
    "    fig_width_in = fig_width_pt * inches_per_pt\n",
    "    # Figure height in inches\n",
    "    fig_height_in = fig_width_in * golden_ratio\n",
    "\n",
    "    fig_dim = (fig_width_in, fig_height_in)\n",
    "\n",
    "    return fig_dim"
   ]
  },
  {
   "cell_type": "code",
   "execution_count": null,
   "metadata": {},
   "outputs": [],
   "source": [
    "data = pd.read_csv(join('..', 'data', 'synthetic', 'normal_train.csv'))\n",
    "X = data[[c for c in data.columns if c != 'y']].to_numpy()\n",
    "y = data['y'].to_numpy()\n",
    "\n",
    "silverman_bandwidth = 1.06*np.std(y)*np.power(len(y), (-1/5))\n",
    "best_bandwidth = silverman_bandwidth\n",
    "\n",
    "kernel = KernelDensity(bandwidth=best_bandwidth).fit(y[:, None])\n",
    "\n",
    "Y = np.sort(y)\n",
    "# This returns the log-likelyhood of the samples\n",
    "log_dens = kernel.score_samples(Y[:, None])\n",
    "dens = np.exp(log_dens)\n",
    "\n",
    "dens = MinMaxScaler().fit_transform(dens.reshape(-1, 1)).flatten()"
   ]
  },
  {
   "cell_type": "code",
   "execution_count": null,
   "metadata": {},
   "outputs": [],
   "source": [
    "nice_fonts = {\n",
    "        # Use LaTeX to write all text\n",
    "        \"text.usetex\": True,\n",
    "        \"font.family\": \"serif\",\n",
    "        # Use 10pt font in plots, to match 10pt font in document\n",
    "        \"axes.labelsize\": 10,\n",
    "        \"font.size\": 10,\n",
    "        # Make the legend/label fonts a little smaller\n",
    "        \"legend.fontsize\": 8,\n",
    "        \"xtick.labelsize\": 8,\n",
    "        \"ytick.labelsize\": 8,\n",
    "}\n",
    "\n",
    "mpl.rcParams.update(nice_fonts)\n",
    "\n",
    "max_y = 4.8\n",
    "\n",
    "text_width = 347.12354\n",
    "fig, ax = plt.subplots(figsize=set_size(text_width, fraction=0.75))\n",
    "ax.set_xlabel('$y$')\n",
    "ax.set_xlim([0, max_y])\n",
    "ax.fill_between(Y, dens, linestyle='-', label='$p\\'(y)$', alpha=0.2, color='black')\n",
    "\n",
    "def weight(a, dens):\n",
    "    weight = -a*dens + 1\n",
    "    w_star = np.maximum(1e-6, weight)\n",
    "    w = w_star/np.mean(w_star)\n",
    "    return w\n",
    "\n",
    "linestyles = ['-', '--', '-.', ':']\n",
    "for i, a in enumerate([0.0, 0.5, 1.0, 1.1]):\n",
    "    w = weight(a, dens)\n",
    "    ax.plot(Y, w, markersize=1, label='$f_w(%.1f,y)$' % a, color=str(a/2), linestyle=linestyles[i % len(linestyles)])\n",
    "\n",
    "plt.legend()\n",
    "plt.savefig(join('..', 'plots', 'denseloss.pdf'), format='pdf', bbox_inches='tight')"
   ]
  }
 ],
 "metadata": {
  "kernelspec": {
   "display_name": "Python 3",
   "language": "python",
   "name": "python3"
  },
  "language_info": {
   "codemirror_mode": {
    "name": "ipython",
    "version": 3
   },
   "file_extension": ".py",
   "mimetype": "text/x-python",
   "name": "python",
   "nbconvert_exporter": "python",
   "pygments_lexer": "ipython3",
   "version": "3.7.6"
  }
 },
 "nbformat": 4,
 "nbformat_minor": 4
}